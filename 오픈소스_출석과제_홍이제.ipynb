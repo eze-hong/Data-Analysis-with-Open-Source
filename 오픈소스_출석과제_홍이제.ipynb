{
  "nbformat": 4,
  "nbformat_minor": 0,
  "metadata": {
    "colab": {
      "provenance": [],
      "gpuType": "T4",
      "authorship_tag": "ABX9TyMISbfsUBGcIFNsPv7p0ncB",
      "include_colab_link": true
    },
    "kernelspec": {
      "name": "python3",
      "display_name": "Python 3"
    },
    "language_info": {
      "name": "python"
    }
  },
  "cells": [
    {
      "cell_type": "markdown",
      "metadata": {
        "id": "view-in-github",
        "colab_type": "text"
      },
      "source": [
        "<a href=\"https://colab.research.google.com/github/eze-hong/Data-Analysis-with-Open-Source/blob/main/%EC%98%A4%ED%94%88%EC%86%8C%EC%8A%A4_%EC%B6%9C%EC%84%9D%EA%B3%BC%EC%A0%9C_%ED%99%8D%EC%9D%B4%EC%A0%9C.ipynb\" target=\"_parent\"><img src=\"https://colab.research.google.com/assets/colab-badge.svg\" alt=\"Open In Colab\"/></a>"
      ]
    },
    {
      "cell_type": "code",
      "execution_count": null,
      "metadata": {
        "id": "2s4mc-uRr_fp"
      },
      "outputs": [],
      "source": []
    },
    {
      "cell_type": "markdown",
      "source": [
        "1-2\n",
        "\n",
        "1.   Python을 사용하여 API를 호출하는 코드를 작성\n",
        "2.   2015년 1월부터 2024년 12월까지의 개인 유형의 현년 전기, 가스, 수도, 지역난방 에너지 사용량 데이터를 수집하는 프로그램을 작성\n",
        "3. API 호출 성공을 확인할 수 있는 실행 결과를 캡처하여 첨부\n"
      ],
      "metadata": {
        "id": "tTamPufbsGiZ"
      }
    },
    {
      "cell_type": "code",
      "source": [
        "import requests\n",
        "import json\n",
        "import pandas as pd\n",
        "import numpy as np\n",
        "\n",
        "url = 'http://openapi.seoul.go.kr:8088/626b6c4a5873656f36336e756f4b6f/json/energyUseDataSummaryInfo/1/5/'\n",
        "\n",
        "params = {\n",
        "    'KEY' : '626b6c4a5873656f36336e756f4b6f',\n",
        "    'TYPE' : 'json',\n",
        "    'SERVICE': 'energyUseDataSummaryInfo',\n",
        "    'START_INDEX' : '1',\n",
        "    'END_INDEX' : '100',\n",
        "}\n",
        "## 데이터 수집\n",
        "response = requests.get(url, params=params)\n",
        "\n",
        "data = response.json()['energyUseDataSummaryInfo'] ##['row']\n",
        "##df = pd.DataFrame(data)\n",
        "print(data)\n",
        "##print(data['RESULT']['CODE'])"
      ],
      "metadata": {
        "colab": {
          "base_uri": "https://localhost:8080/"
        },
        "id": "L1V26dNYeU1G",
        "outputId": "a7bcf379-581f-4a7c-d0d0-e347b63ecac0"
      },
      "execution_count": null,
      "outputs": [
        {
          "output_type": "stream",
          "name": "stdout",
          "text": [
            "{'list_total_count': 1241, 'RESULT': {'CODE': 'INFO-000', 'MESSAGE': '정상 처리되었습니다'}, 'row': [{'YEAR': '2025', 'MON': '06', 'MM_TYPE': '개인', 'CNT': '1269454', 'EUS': '278745288', 'EUS1': '275851011', 'EUS2': '273151435', 'ECO2_1': '4244065', 'ECO2_2': '2076623.656', 'GUS': '13084768', 'GUS1': '11889039', 'GUS2': '12094650', 'GCO2_1': '1091102', 'GCO2_2': '2182204', 'WUS': '14927683.6', 'WUS1': '15166284.8', 'WUS2': '15371662.2', 'WCO2_1': '-341289.9', 'WCO2_2': '-611822.446', 'HUS': '379182.22', 'HUS1': '368839.049', 'HUS2': '389847.167', 'HCO2_1': '-160.888', 'HCO2_2': '-22448.67848156', 'REG_DATE': '2025-09-01 04:02:15.0'}, {'YEAR': '2025', 'MON': '06', 'MM_TYPE': '학교', 'CNT': '6745', 'EUS': '117808793', 'EUS1': '114793127', 'EUS2': '114623246', 'ECO2_1': '3100606.5', 'ECO2_2': '3096973.668', 'GUS': '2093441', 'GUS1': '2046804', 'GUS2': '2061648', 'GCO2_1': '39207', 'GCO2_2': '78414', 'WUS': '1824338.2', 'WUS1': '1914804.2', 'WUS2': '1956560.2', 'WCO2_1': '-111344', 'WCO2_2': '-333633.134', 'HUS': '8.03', 'HUS1': '8.03', 'HUS2': '8.03', 'HCO2_1': '0', 'HCO2_2': '0', 'REG_DATE': '2025-09-01 04:02:15.0'}, {'YEAR': '2025', 'MON': '06', 'MM_TYPE': '공동주택관리소', 'CNT': '3729', 'EUS': '498863841', 'EUS1': '496003195', 'EUS2': '488758810', 'ECO2_1': '6482838.5', 'ECO2_2': '6482838.5', 'GUS': '2853437', 'GUS1': '2552964', 'GUS2': '2586972', 'GCO2_1': '283460.5', 'GCO2_2': '566921', 'WUS': '20407812.7', 'WUS1': '20616193.4', 'WUS2': '20794568.4', 'WCO2_1': '-297568.2', 'WCO2_2': '-892704.6', 'HUS': '0', 'HUS1': '0', 'HUS2': '0', 'HCO2_1': '0', 'HCO2_2': '0', 'REG_DATE': '2025-09-01 04:02:15.0'}, {'YEAR': '2025', 'MON': '06', 'MM_TYPE': '종교단체', 'CNT': '849', 'EUS': '6205342', 'EUS1': '6171454', 'EUS2': '6094109', 'ECO2_1': '72560.5', 'ECO2_2': '72560.5', 'GUS': '139336', 'GUS1': '152116', 'GUS2': '141705', 'GCO2_1': '-7575', 'GCO2_2': '-15150', 'WUS': '52228', 'WUS1': '51779', 'WUS2': '49094', 'WCO2_1': '1791.5', 'WCO2_2': '5374.5', 'HUS': '0', 'HUS1': '0', 'HUS2': '0', 'HCO2_1': '0', 'HCO2_2': '0', 'REG_DATE': '2025-09-01 04:02:15.0'}, {'YEAR': '2025', 'MON': '06', 'MM_TYPE': '소상공인', 'CNT': '53274', 'EUS': '96254029', 'EUS1': '98122772', 'EUS2': '98464917', 'ECO2_1': '-2039815.5', 'ECO2_2': '-2043866.22', 'GUS': '1638563', 'GUS1': '1647690', 'GUS2': '1687480', 'GCO2_1': '-27668', 'GCO2_2': '-55336', 'WUS': '1526737.8', 'WUS1': '1541313.8', 'WUS2': '1576869.2', 'WCO2_1': '-32353.7', 'WCO2_2': '-97437.288', 'HUS': '2', 'HUS1': '2', 'HUS2': '2', 'HCO2_1': '0', 'HCO2_2': '0', 'REG_DATE': '2025-09-01 04:02:15.0'}]}\n"
          ]
        }
      ]
    },
    {
      "cell_type": "code",
      "source": [
        "import requests\n",
        "import json\n",
        "import pandas as pd\n",
        "import numpy as np\n",
        "\n",
        "url = 'http://openapi.seoul.go.kr:8088/626b6c4a5873656f36336e756f4b6f/json/energyUseDataSummaryInfo/1/5/'\n",
        "\n",
        "params = {\n",
        "    'KEY' : '626b6c4a5873656f36336e756f4b6f',\n",
        "    'TYPE' : 'json',\n",
        "    'SERVICE': 'energyUseDataSummaryInfo',\n",
        "    'START_INDEX' : '1',\n",
        "    'END_INDEX' : '100',\n",
        "}\n",
        "## 데이터 수집\n",
        "\n",
        "\n",
        "\n",
        "def get_year_months():\n",
        "  year_months = []\n",
        "  for year in range(2015, 2016+1):\n",
        "    ##for year in range(2015, 2024+1):\n",
        "    for month in range(1,12+1):\n",
        "      year_months.append(f'{year}{month:02d}')\n",
        "  return year_months\n",
        "\n",
        "responses = []\n",
        "\n",
        "for year_month in get_year_months():\n",
        "    year = year_month[:4]\n",
        "    mon = year_month[4:]\n",
        "    url = f'http://openapi.seoul.go.kr:8088/626b6c4a5873656f36336e756f4b6f/json/energyUseDataSummaryInfo/1/5/{year}/{mon}'\n",
        "    response = requests.get(url, params=params)\n",
        "    data = response.json().get('energyUseDataSummaryInfo', {})\n",
        "    result = data.get('RESULT', {})\n",
        "\n",
        "    if result.get('CODE') == 'INFO-000' :\n",
        "    ##if data['RESULT']['CODE'] == 'INFO-000' :\n",
        "        ##rows =  data['row']\n",
        "        rows = data.get('row', [])\n",
        "        개인_row = [r for r in rows if r['MM_TYPE'] == '개인']\n",
        "        if(len(개인_row)!=0) :\n",
        "            ##print([{'YEAR': d['YEAR'], 'MON' : d['MON'], 'MM_TYPE' : d['MM_TYPE'], 'EUS' : d['EUS'], 'GUS' : d['GUS'], 'WUS' : d['WUS'], 'HUS' : d['HUS']} for d in 개인_row])\n",
        "            responses.append([{'YEAR': d['YEAR'], 'MON' : d['MON'], 'MM_TYPE' : d['MM_TYPE'], 'EUS' : d['EUS'], 'GUS' : d['GUS'], 'WUS' : d['WUS'], 'HUS' : d['HUS']} for d in 개인_row])\n",
        "\n",
        "print(responses)\n",
        "\n",
        "if(len(responses)!=0):\n",
        "    print(\"api 호출 성공\")\n",
        "else :\n",
        "    print(\"api 호출 실패\")"
      ],
      "metadata": {
        "colab": {
          "base_uri": "https://localhost:8080/"
        },
        "id": "Fxe2lGwZsJ7P",
        "outputId": "4be8d4d8-7856-4e3a-efc9-03ef9508cd8e"
      },
      "execution_count": 15,
      "outputs": [
        {
          "output_type": "stream",
          "name": "stdout",
          "text": [
            "[[{'YEAR': '2015', 'MON': '01', 'MM_TYPE': '개인', 'EUS': '193784708', 'GUS': '59133720', 'WUS': '12819757.886', 'HUS': '22740838.937'}], [{'YEAR': '2015', 'MON': '02', 'MM_TYPE': '개인', 'EUS': '189974230', 'GUS': '56487358', 'WUS': '12656888.218', 'HUS': '18793320.213'}], [{'YEAR': '2015', 'MON': '05', 'MM_TYPE': '개인', 'EUS': '177289769', 'GUS': '22060892', 'WUS': '13086734.214', 'HUS': '1320895.801'}], [{'YEAR': '2015', 'MON': '06', 'MM_TYPE': '개인', 'EUS': '186073153', 'GUS': '12677645', 'WUS': '14241651.402', 'HUS': '294312.634'}], [{'YEAR': '2015', 'MON': '07', 'MM_TYPE': '개인', 'EUS': '165114568', 'GUS': '8893640', 'WUS': '12083879.038', 'HUS': '702863.645'}], [{'YEAR': '2015', 'MON': '08', 'MM_TYPE': '개인', 'EUS': '242000479', 'GUS': '7619018', 'WUS': '15164553.742', 'HUS': '460288.965'}], [{'YEAR': '2015', 'MON': '10', 'MM_TYPE': '개인', 'EUS': '186473958', 'GUS': '8924018', 'WUS': '14711828.766', 'HUS': '3167520.127'}], [{'YEAR': '2015', 'MON': '12', 'MM_TYPE': '개인', 'EUS': '203388142', 'GUS': '40095231', 'WUS': '13904162.958', 'HUS': '21102616.717'}], [{'YEAR': '2016', 'MON': '01', 'MM_TYPE': '개인', 'EUS': '215330620', 'GUS': '57641741', 'WUS': '13218916.436', 'HUS': '27186166.133'}], [{'YEAR': '2016', 'MON': '02', 'MM_TYPE': '개인', 'EUS': '216677664', 'GUS': '68879796', 'WUS': '13312113.622', 'HUS': '21452994.715'}], [{'YEAR': '2016', 'MON': '03', 'MM_TYPE': '개인', 'EUS': '203451798', 'GUS': '60019600', 'WUS': '13191615.499', 'HUS': '14070182.978'}], [{'YEAR': '2016', 'MON': '04', 'MM_TYPE': '개인', 'EUS': '202541336', 'GUS': '40370608', 'WUS': '13748935.736', 'HUS': '4556396.936'}], [{'YEAR': '2016', 'MON': '05', 'MM_TYPE': '개인', 'EUS': '195448592', 'GUS': '23077064', 'WUS': '13762618.524', 'HUS': '1166907.615'}], [{'YEAR': '2016', 'MON': '06', 'MM_TYPE': '개인', 'EUS': '205061790', 'GUS': '13344932', 'WUS': '14543461.284', 'HUS': '340601.066'}], [{'YEAR': '2016', 'MON': '09', 'MM_TYPE': '개인', 'EUS': '241676328', 'GUS': '7030657', 'WUS': '15233262.266', 'HUS': '2597269.386'}], [{'YEAR': '2016', 'MON': '10', 'MM_TYPE': '개인', 'EUS': '197827666', 'GUS': '10129547', 'WUS': '15173666.268', 'HUS': '2142328.405'}], [{'YEAR': '2016', 'MON': '11', 'MM_TYPE': '개인', 'EUS': '204812090', 'GUS': '23915383', 'WUS': '7215169', 'HUS': '10865402.481'}]]\n",
            "api 호출 성공\n"
          ]
        }
      ]
    },
    {
      "cell_type": "code",
      "source": [
        "original_list = [\n",
        "    {'name': 'Alice', 'age': 30, 'city': 'New York'},\n",
        "    {'name': 'Bob', 'age': 24, 'city': 'London'},\n",
        "    {'name': 'Charlie', 'age': 35, 'city': 'Paris'}\n",
        "]\n",
        "\n",
        "# Extract 'name' and 'city'\n",
        "new_list = [{'name': d['name'], 'city': d['city']} for d in original_list] ##this called 'List Comprehension'\n",
        "print(new_list)"
      ],
      "metadata": {
        "colab": {
          "base_uri": "https://localhost:8080/"
        },
        "id": "cMocwW3I61WS",
        "outputId": "cf3dbdfc-d609-4dff-f019-6913c6da3a16"
      },
      "execution_count": null,
      "outputs": [
        {
          "output_type": "stream",
          "name": "stdout",
          "text": [
            "[{'name': 'Alice', 'city': 'New York'}, {'name': 'Bob', 'city': 'London'}, {'name': 'Charlie', 'city': 'Paris'}]\n"
          ]
        }
      ]
    },
    {
      "cell_type": "markdown",
      "source": [
        "문제 2\n",
        "1. 수집한 JSON 형태의 데이터를 pandas DataFrame으로 변환하고, 데이터의 기본 정보를 출력 하는 코드와 실행 결과를 첨부\n",
        "2. 연도별, 계절별 분석을 위해 날짜 컬럼을 활용하여 연도(year)와 계절(season) 컬럼을 추가하 는 전처리 코드를 작성하고, 변환 결과를 확인할 수 있는 출력 결과를 첨부하시오.\n",
        "※ 계절 구분: 봄(3-5월), 여름(6-8월), 가을(9-11월), 겨울(12-2월)"
      ],
      "metadata": {
        "id": "8ZvrciBkjkZA"
      }
    },
    {
      "cell_type": "code",
      "source": [
        "import numpy as np\n",
        "# print(\"type:\")\n",
        "# print(type(responses))\n",
        "# print(\"len:\")\n",
        "# print(len(responses))\n",
        "# print(type(responses[0]))\n",
        "# print(responses[0][:2])\n",
        "# df = pd.DataFrame(responses[0])\n",
        "# df.info()\n",
        "# df.head()\n",
        "# print(\"::::::columns::::::\")\n",
        "# print(df.columns)\n",
        "\n",
        "##print(df.values.tolist())\n",
        "\n",
        "##print(df.values.flatten())\n",
        "\n",
        "flat_responses = [d for sublist in responses for d in sublist]\n",
        "df = pd.DataFrame(flat_responses)\n",
        "print(\"df 출력\")\n",
        "print(df)\n",
        "df.describe(include='all')\n",
        "##df.describe(include=[np.number])\n",
        "\n",
        "def getSeason(x) :\n",
        "    mon = int(x['MON'])\n",
        "    if 3<= mon <=5 : return 'Spring'\n",
        "    elif 6<= mon <=8 : return 'Summer'\n",
        "    elif 9<= mon <=11 : return 'Autumn'\n",
        "    else : return 'WInter'\n",
        "\n",
        "df['SEASON'] = df.apply(getSeason, axis=1)\n",
        "print(df[['YEAR', 'MON', 'SEASON']])\n",
        "\n",
        "#for d in responses:\n",
        "#    d['SEASON'] = getSeason(d)\n",
        "##df['SEASON'] = df['MON'].apply(lambda mon : getSeason ({MON : mon})) ##7강 참\n",
        "##df['SEASON'] = df[0].apply(lambda row: getSeason({'MON': row[0]['MON']}))\n",
        "##def setSeason(month) : df['SEASON'] = getSeason(df['MON'])\n",
        "\n",
        "##dfseason = [setSeason(['MON']) for MON in df]\n",
        "\n",
        "##print(df.values.flatten())"
      ],
      "metadata": {
        "id": "KOxXKNQqsMEf",
        "colab": {
          "base_uri": "https://localhost:8080/"
        },
        "outputId": "552d3f4a-d8ae-4bab-e815-1605f577bea8"
      },
      "execution_count": 14,
      "outputs": [
        {
          "output_type": "stream",
          "name": "stdout",
          "text": [
            "df 출력\n",
            "    YEAR MON MM_TYPE        EUS       GUS           WUS           HUS\n",
            "0   2015  01      개인  193784708  59133720  12819757.886  22740838.937\n",
            "1   2015  02      개인  189974230  56487358  12656888.218  18793320.213\n",
            "2   2015  05      개인  177289769  22060892  13086734.214   1320895.801\n",
            "3   2015  06      개인  186073153  12677645  14241651.402    294312.634\n",
            "4   2015  07      개인  165114568   8893640  12083879.038    702863.645\n",
            "5   2015  08      개인  242000479   7619018  15164553.742    460288.965\n",
            "6   2015  10      개인  186473958   8924018  14711828.766   3167520.127\n",
            "7   2015  12      개인  203388142  40095231  13904162.958  21102616.717\n",
            "8   2016  01      개인  215330620  57641741  13218916.436  27186166.133\n",
            "9   2016  02      개인  216677664  68879796  13312113.622  21452994.715\n",
            "10  2016  03      개인  203451798  60019600  13191615.499  14070182.978\n",
            "11  2016  04      개인  202541336  40370608  13748935.736   4556396.936\n",
            "12  2016  05      개인  195448592  23077064  13762618.524   1166907.615\n",
            "13  2016  06      개인  205061790  13344932  14543461.284    340601.066\n",
            "14  2016  09      개인  241676328   7030657  15233262.266   2597269.386\n",
            "15  2016  10      개인  197827666  10129547  15173666.268   2142328.405\n",
            "16  2016  11      개인  204812090  23915383       7215169  10865402.481\n",
            "    YEAR MON  SEASON\n",
            "0   2015  01  WInter\n",
            "1   2015  02  WInter\n",
            "2   2015  05  Spring\n",
            "3   2015  06  Summer\n",
            "4   2015  07  Summer\n",
            "5   2015  08  Summer\n",
            "6   2015  10  Autumn\n",
            "7   2015  12  WInter\n",
            "8   2016  01  WInter\n",
            "9   2016  02  WInter\n",
            "10  2016  03  Spring\n",
            "11  2016  04  Spring\n",
            "12  2016  05  Spring\n",
            "13  2016  06  Summer\n",
            "14  2016  09  Autumn\n",
            "15  2016  10  Autumn\n",
            "16  2016  11  Autumn\n"
          ]
        }
      ]
    }
  ]
}