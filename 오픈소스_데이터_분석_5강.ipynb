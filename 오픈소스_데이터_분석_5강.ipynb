{
  "nbformat": 4,
  "nbformat_minor": 0,
  "metadata": {
    "colab": {
      "provenance": [],
      "include_colab_link": true
    },
    "kernelspec": {
      "name": "python3",
      "display_name": "Python 3"
    },
    "language_info": {
      "name": "python"
    }
  },
  "cells": [
    {
      "cell_type": "markdown",
      "metadata": {
        "id": "view-in-github",
        "colab_type": "text"
      },
      "source": [
        "<a href=\"https://colab.research.google.com/github/eze-hong/Data-Analysis-with-Open-Source/blob/main/%EC%98%A4%ED%94%88%EC%86%8C%EC%8A%A4_%EB%8D%B0%EC%9D%B4%ED%84%B0_%EB%B6%84%EC%84%9D_5%EA%B0%95.ipynb\" target=\"_parent\"><img src=\"https://colab.research.google.com/assets/colab-badge.svg\" alt=\"Open In Colab\"/></a>"
      ]
    },
    {
      "cell_type": "markdown",
      "source": [
        "# 오픈소스 기반 데이터 분석 5강 - 데이터 저장"
      ],
      "metadata": {
        "id": "O4kC4JMknVnK"
      }
    },
    {
      "cell_type": "markdown",
      "source": [
        "## 5-1 CSV 형식 저장"
      ],
      "metadata": {
        "id": "8DfV0cZLqj_s"
      }
    },
    {
      "cell_type": "code",
      "source": [
        "import pandas as pd\n",
        "\n",
        "data = {\n",
        "    'student_id': [101, 102, 103, 104, 105],\n",
        "    'database_score': [85, 76, 92, 63, 88],\n",
        "    'cloudcomputing_score': [78, 82, 95, 70, 84],\n",
        "    'python_score': [92, 78, 85, 75, 91],\n",
        "    'watch_rate': [0.95, 0.87, 0.99, 0.80, 0.93]\n",
        "}\n",
        "## DataFrame 생성\n",
        "df = pd.DataFrame(data)\n",
        "\n",
        "## CSV 형식 저장\n",
        "df.to_csv('student_analysis.csv', encoding='utf-8', index=False)"
      ],
      "metadata": {
        "id": "DztLRI9gW2lk"
      },
      "execution_count": null,
      "outputs": []
    },
    {
      "cell_type": "markdown",
      "source": [
        "## 5-2 JSON 형식 저장"
      ],
      "metadata": {
        "id": "CSABzaf3q8XU"
      }
    },
    {
      "cell_type": "code",
      "source": [
        "### 라이브러리 임포트\n",
        "import json\n",
        "import pandas as pd\n",
        "\n",
        "data = { # 딕셔너리타입\n",
        "    \"이름\": \"홍길동\",\n",
        "    \"나이\": 25,\n",
        "    \"거주지\": \"서울\",\n",
        "    \"관심사\": [\"프로그래밍\", \"데이터 분석\", \"여행\"]\n",
        "}\n",
        "\n",
        "## json.dump를 이용한 저장\n",
        "with open('output.json', mode = 'w', encoding='utf-8') as f :\n",
        "    json.dump(data, f, indent=4, ensure_ascii=False) # data를 f에 저장, Indent=들여쓰기\n",
        "\n",
        "## DataFrame을 이용한 저장\n",
        "df = pd.DataFrame([data])\n",
        "df.to_json('output_df.json', orient='columns', indent=4, force_ascii=False)\n",
        "# orient records, columns(컬럼단위저장)\n",
        "# df에 인자를 data와 [data](리스트로 넣음)넣는 것의 차이"
      ],
      "metadata": {
        "id": "7bAgRpizW7Vj"
      },
      "execution_count": null,
      "outputs": []
    },
    {
      "cell_type": "markdown",
      "source": [
        "## 5-3 Pandas Dataframe 데이터 추출"
      ],
      "metadata": {
        "id": "NMlsQDHtrA_x"
      }
    },
    {
      "cell_type": "code",
      "source": [
        "import pandas as pd\n",
        "\n",
        "data = {\n",
        "    \"이름\": [\"김철수\", \"이영희\", \"박민수\", \"최지훈\", \"정소희\"],\n",
        "    \"학년\": [1, 2, 3, 4, 2],\n",
        "    \"학점\": [4.2, 3.8, 4.5, 3.9, 3.5],\n",
        "    \"학과\": [\"컴퓨터학\", \"경영학\", \"농학\", \"교육학\", \"영어영문학\"],\n",
        "    \"동아리\": [\"프로그래밍\", \"독서토론\", \"로봇공학\", \"봉사활동\", \"음악감상\"]\n",
        "}\n",
        "df = pd.DataFrame(data)\n",
        "df #출력\n",
        "## DataFrame 인덱스 출력\n",
        "print(df.index)\n",
        "\n",
        "## DataFrame 컬럼 출력\n",
        "print(df.columns)\n",
        "\n",
        "## DataFrame 행 출력\n",
        "print(df.values.tolist()) #파이썬의 리스트형태\n",
        "print(df.values)    #넘파이형태?\n",
        "\n",
        "## DataFrame 값 출력\n",
        "print(df.values.flatten()) #요소를 하나씩 나열"
      ],
      "metadata": {
        "id": "dk3xneVAW9_g",
        "outputId": "1f54d563-6430-4cec-bf81-9710168fba9f",
        "colab": {
          "base_uri": "https://localhost:8080/"
        }
      },
      "execution_count": null,
      "outputs": [
        {
          "output_type": "stream",
          "name": "stdout",
          "text": [
            "RangeIndex(start=0, stop=5, step=1)\n",
            "Index(['이름', '학년', '학점', '학과', '동아리'], dtype='object')\n",
            "[['김철수', 1, 4.2, '컴퓨터학', '프로그래밍'], ['이영희', 2, 3.8, '경영학', '독서토론'], ['박민수', 3, 4.5, '농학', '로봇공학'], ['최지훈', 4, 3.9, '교육학', '봉사활동'], ['정소희', 2, 3.5, '영어영문학', '음악감상']]\n",
            "[['김철수' 1 4.2 '컴퓨터학' '프로그래밍']\n",
            " ['이영희' 2 3.8 '경영학' '독서토론']\n",
            " ['박민수' 3 4.5 '농학' '로봇공학']\n",
            " ['최지훈' 4 3.9 '교육학' '봉사활동']\n",
            " ['정소희' 2 3.5 '영어영문학' '음악감상']]\n",
            "['김철수' 1 4.2 '컴퓨터학' '프로그래밍' '이영희' 2 3.8 '경영학' '독서토론' '박민수' 3 4.5 '농학'\n",
            " '로봇공학' '최지훈' 4 3.9 '교육학' '봉사활동' '정소희' 2 3.5 '영어영문학' '음악감상']\n"
          ]
        }
      ]
    },
    {
      "cell_type": "markdown",
      "source": [
        "## 5-4 DataFrame 생성 방법"
      ],
      "metadata": {
        "id": "ILJd1GLoseqm"
      }
    },
    {
      "cell_type": "code",
      "source": [
        "import pandas as pd\n",
        "import json\n",
        "\n",
        "data = {\n",
        "    \"이름\": [\"김철수\", \"이영희\", \"박민수\", \"최지훈\", \"정소희\"],\n",
        "    \"학년\": [1, 2, 3, 4, 2],\n",
        "    \"학점\": [4.2, 3.8, 4.5, 3.9, 3.5],\n",
        "    \"학과\": [\"컴퓨터공학\", \"경영학\", \"전자공학\", \"의학\", \"심리학\"],\n",
        "    \"동아리\": [\"프로그래밍\", \"독서토론\", \"로봇공학\", \"봉사활동\", \"음악감상\"]\n",
        "}\n",
        "\n",
        "## 딕셔너리, csv, json으로 부터 DataFrame 생성\n",
        "df1 = pd.DataFrame.from_dict(data) #dict 타입을 명시하며 가져오기\n",
        "df2 = pd.read_csv('students.csv')\n",
        "df3 = pd.read_json('students.json')\n",
        "\n",
        "## 세가지 방법 결과 비교 shape는 데이터의 행과 열 출력함\n",
        "print(df1.shape)\n",
        "print(df2.shape)\n",
        "print(df3.shape)"
      ],
      "metadata": {
        "id": "ISnPLEgNXAmi",
        "outputId": "b9e15237-2a34-4196-a8ee-7ec842c65d85",
        "colab": {
          "base_uri": "https://localhost:8080/"
        }
      },
      "execution_count": null,
      "outputs": [
        {
          "output_type": "stream",
          "name": "stdout",
          "text": [
            "(5, 5)\n",
            "(5, 5)\n",
            "(5, 5)\n"
          ]
        }
      ]
    },
    {
      "cell_type": "markdown",
      "source": [
        "## 5-5 DataFrame 저장 방법"
      ],
      "metadata": {
        "id": "z1N6lAnwsdyU"
      }
    },
    {
      "cell_type": "code",
      "source": [
        "import pandas as pd\n",
        "\n",
        "data = {\n",
        "    \"이름\": [\"김철수\", \"이영희\", \"박민수\", \"최지훈\", \"정소희\"],\n",
        "    \"학년\": [1, 2, 3, 4, 2],\n",
        "    \"학점\": [4.2, 3.8, 4.5, 3.9, 3.5],\n",
        "    \"학과\": [\"컴퓨터공학\", \"경영학\", \"전자공학\", \"의학\", \"심리학\"],\n",
        "    \"동아리\": [\"프로그래밍\", \"독서토론\", \"로봇공학\", \"봉사활동\", \"음악감상\"]\n",
        "}\n",
        "\n",
        "## Dataframe 생성\n",
        "df = pd.DataFrame(data)\n",
        "\n",
        "## CSV, JSON 형식으로 저장\n",
        "df.to_csv('students_scores.csv')\n",
        "df.to_json('students_scores.json')\n",
        "\n",
        "## HTML 형식으로 저장\n",
        "html_table = df.to_html()\n",
        "print(html_table)\n",
        "with open('students_scores.html', 'w') as f:\n",
        "    f.write(html_table)"
      ],
      "metadata": {
        "id": "_dqoWCRoXDrJ",
        "outputId": "06615c0b-2e45-4f98-b081-b7d351945c3e",
        "colab": {
          "base_uri": "https://localhost:8080/"
        }
      },
      "execution_count": null,
      "outputs": [
        {
          "output_type": "stream",
          "name": "stdout",
          "text": [
            "<table border=\"1\" class=\"dataframe\">\n",
            "  <thead>\n",
            "    <tr style=\"text-align: right;\">\n",
            "      <th></th>\n",
            "      <th>이름</th>\n",
            "      <th>학년</th>\n",
            "      <th>학점</th>\n",
            "      <th>학과</th>\n",
            "      <th>동아리</th>\n",
            "    </tr>\n",
            "  </thead>\n",
            "  <tbody>\n",
            "    <tr>\n",
            "      <th>0</th>\n",
            "      <td>김철수</td>\n",
            "      <td>1</td>\n",
            "      <td>4.2</td>\n",
            "      <td>컴퓨터공학</td>\n",
            "      <td>프로그래밍</td>\n",
            "    </tr>\n",
            "    <tr>\n",
            "      <th>1</th>\n",
            "      <td>이영희</td>\n",
            "      <td>2</td>\n",
            "      <td>3.8</td>\n",
            "      <td>경영학</td>\n",
            "      <td>독서토론</td>\n",
            "    </tr>\n",
            "    <tr>\n",
            "      <th>2</th>\n",
            "      <td>박민수</td>\n",
            "      <td>3</td>\n",
            "      <td>4.5</td>\n",
            "      <td>전자공학</td>\n",
            "      <td>로봇공학</td>\n",
            "    </tr>\n",
            "    <tr>\n",
            "      <th>3</th>\n",
            "      <td>최지훈</td>\n",
            "      <td>4</td>\n",
            "      <td>3.9</td>\n",
            "      <td>의학</td>\n",
            "      <td>봉사활동</td>\n",
            "    </tr>\n",
            "    <tr>\n",
            "      <th>4</th>\n",
            "      <td>정소희</td>\n",
            "      <td>2</td>\n",
            "      <td>3.5</td>\n",
            "      <td>심리학</td>\n",
            "      <td>음악감상</td>\n",
            "    </tr>\n",
            "  </tbody>\n",
            "</table>\n"
          ]
        }
      ]
    },
    {
      "cell_type": "markdown",
      "source": [
        "## 5-6 실습 시나리오"
      ],
      "metadata": {
        "id": "ifBFAyulsdJb"
      }
    },
    {
      "cell_type": "markdown",
      "source": [
        "## 데이터 수집"
      ],
      "metadata": {
        "id": "muFj6okKyXy6"
      }
    },
    {
      "cell_type": "code",
      "source": [],
      "metadata": {
        "id": "W2pd8kKJIm1v"
      },
      "execution_count": null,
      "outputs": []
    },
    {
      "cell_type": "code",
      "source": [
        "!pip install xmltodict\n",
        "import requests\n",
        "import xmltodict\n",
        "import json\n",
        "\n",
        "# url = \"http://apis.data.go.kr/B552584/ArpltnInforInqireSvc/getMinuDustFrcstDspth\"\n",
        "# api_key = '[발급받은 인증키]'\n",
        "\n",
        "url = 'http://openapi.seoul.go.kr:8088/626b6c4a5873656f36336e756f4b6f/json/energyUseDataSummaryInfo/1/5/'\n",
        "\n",
        "# params = {\n",
        "#     'serviceKey': api_key,\n",
        "#     'returnType': 'json',\n",
        "#     'numOfRows': '100',\n",
        "#     'pageNo': '1',\n",
        "#     'sidoName': '서울',\n",
        "#     'ver': '1.0'\n",
        "# }\n",
        "params = {\n",
        "    'KEY' : '626b6c4a5873656f36336e756f4b6f',\n",
        "    'TYPE' : 'json',\n",
        "    'SERVICE': 'energyUseDataSummaryInfo',\n",
        "    'START_INDEX' : '1',\n",
        "    'END_INDEX' : '3'\n",
        "}\n",
        "\n",
        "## 데이터 수집\n",
        "response = requests.get(url, params=params)\n",
        "\n",
        "## 호출 성공/실패 출력\n",
        "##print(response.headers.get(\"Content-Type\"))\n",
        "##print(response.content)\n",
        "\n",
        "## xml to dict\n",
        "##xml_data = response.text\n",
        "##dict_data = xmltodict.parse(xml_data)\n",
        "\n",
        "##dict to json\n",
        "##json_data = json.dumps(dict_data, indent =4)\n",
        "##print(json_data)\n",
        "\n",
        "## url을 json으로 바꾼 후\n",
        "data = response.json()\n",
        "print(json.dumps(data, indent=4, ensure_ascii=False))"
      ],
      "metadata": {
        "id": "7yCozmQeXJcO",
        "outputId": "f5b5a188-9fc7-4b38-9336-557b03aa6200",
        "colab": {
          "base_uri": "https://localhost:8080/"
        }
      },
      "execution_count": 5,
      "outputs": [
        {
          "output_type": "stream",
          "name": "stdout",
          "text": [
            "Requirement already satisfied: xmltodict in /usr/local/lib/python3.12/dist-packages (1.0.2)\n",
            "{\n",
            "    \"energyUseDataSummaryInfo\": {\n",
            "        \"list_total_count\": 1241,\n",
            "        \"RESULT\": {\n",
            "            \"CODE\": \"INFO-000\",\n",
            "            \"MESSAGE\": \"정상 처리되었습니다\"\n",
            "        },\n",
            "        \"row\": [\n",
            "            {\n",
            "                \"YEAR\": \"2025\",\n",
            "                \"MON\": \"06\",\n",
            "                \"MM_TYPE\": \"개인\",\n",
            "                \"CNT\": \"1269454\",\n",
            "                \"EUS\": \"278745288\",\n",
            "                \"EUS1\": \"275851011\",\n",
            "                \"EUS2\": \"273151435\",\n",
            "                \"ECO2_1\": \"4244065\",\n",
            "                \"ECO2_2\": \"2076623.656\",\n",
            "                \"GUS\": \"13084768\",\n",
            "                \"GUS1\": \"11889039\",\n",
            "                \"GUS2\": \"12094650\",\n",
            "                \"GCO2_1\": \"1091102\",\n",
            "                \"GCO2_2\": \"2182204\",\n",
            "                \"WUS\": \"14927683.6\",\n",
            "                \"WUS1\": \"15166284.8\",\n",
            "                \"WUS2\": \"15371662.2\",\n",
            "                \"WCO2_1\": \"-341289.9\",\n",
            "                \"WCO2_2\": \"-611822.446\",\n",
            "                \"HUS\": \"379182.22\",\n",
            "                \"HUS1\": \"368839.049\",\n",
            "                \"HUS2\": \"389847.167\",\n",
            "                \"HCO2_1\": \"-160.888\",\n",
            "                \"HCO2_2\": \"-22448.67848156\",\n",
            "                \"REG_DATE\": \"2025-09-01 04:02:15.0\"\n",
            "            },\n",
            "            {\n",
            "                \"YEAR\": \"2025\",\n",
            "                \"MON\": \"06\",\n",
            "                \"MM_TYPE\": \"학교\",\n",
            "                \"CNT\": \"6745\",\n",
            "                \"EUS\": \"117808793\",\n",
            "                \"EUS1\": \"114793127\",\n",
            "                \"EUS2\": \"114623246\",\n",
            "                \"ECO2_1\": \"3100606.5\",\n",
            "                \"ECO2_2\": \"3096973.668\",\n",
            "                \"GUS\": \"2093441\",\n",
            "                \"GUS1\": \"2046804\",\n",
            "                \"GUS2\": \"2061648\",\n",
            "                \"GCO2_1\": \"39207\",\n",
            "                \"GCO2_2\": \"78414\",\n",
            "                \"WUS\": \"1824338.2\",\n",
            "                \"WUS1\": \"1914804.2\",\n",
            "                \"WUS2\": \"1956560.2\",\n",
            "                \"WCO2_1\": \"-111344\",\n",
            "                \"WCO2_2\": \"-333633.134\",\n",
            "                \"HUS\": \"8.03\",\n",
            "                \"HUS1\": \"8.03\",\n",
            "                \"HUS2\": \"8.03\",\n",
            "                \"HCO2_1\": \"0\",\n",
            "                \"HCO2_2\": \"0\",\n",
            "                \"REG_DATE\": \"2025-09-01 04:02:15.0\"\n",
            "            },\n",
            "            {\n",
            "                \"YEAR\": \"2025\",\n",
            "                \"MON\": \"06\",\n",
            "                \"MM_TYPE\": \"공동주택관리소\",\n",
            "                \"CNT\": \"3729\",\n",
            "                \"EUS\": \"498863841\",\n",
            "                \"EUS1\": \"496003195\",\n",
            "                \"EUS2\": \"488758810\",\n",
            "                \"ECO2_1\": \"6482838.5\",\n",
            "                \"ECO2_2\": \"6482838.5\",\n",
            "                \"GUS\": \"2853437\",\n",
            "                \"GUS1\": \"2552964\",\n",
            "                \"GUS2\": \"2586972\",\n",
            "                \"GCO2_1\": \"283460.5\",\n",
            "                \"GCO2_2\": \"566921\",\n",
            "                \"WUS\": \"20407812.7\",\n",
            "                \"WUS1\": \"20616193.4\",\n",
            "                \"WUS2\": \"20794568.4\",\n",
            "                \"WCO2_1\": \"-297568.2\",\n",
            "                \"WCO2_2\": \"-892704.6\",\n",
            "                \"HUS\": \"0\",\n",
            "                \"HUS1\": \"0\",\n",
            "                \"HUS2\": \"0\",\n",
            "                \"HCO2_1\": \"0\",\n",
            "                \"HCO2_2\": \"0\",\n",
            "                \"REG_DATE\": \"2025-09-01 04:02:15.0\"\n",
            "            },\n",
            "            {\n",
            "                \"YEAR\": \"2025\",\n",
            "                \"MON\": \"06\",\n",
            "                \"MM_TYPE\": \"종교단체\",\n",
            "                \"CNT\": \"849\",\n",
            "                \"EUS\": \"6205342\",\n",
            "                \"EUS1\": \"6171454\",\n",
            "                \"EUS2\": \"6094109\",\n",
            "                \"ECO2_1\": \"72560.5\",\n",
            "                \"ECO2_2\": \"72560.5\",\n",
            "                \"GUS\": \"139336\",\n",
            "                \"GUS1\": \"152116\",\n",
            "                \"GUS2\": \"141705\",\n",
            "                \"GCO2_1\": \"-7575\",\n",
            "                \"GCO2_2\": \"-15150\",\n",
            "                \"WUS\": \"52228\",\n",
            "                \"WUS1\": \"51779\",\n",
            "                \"WUS2\": \"49094\",\n",
            "                \"WCO2_1\": \"1791.5\",\n",
            "                \"WCO2_2\": \"5374.5\",\n",
            "                \"HUS\": \"0\",\n",
            "                \"HUS1\": \"0\",\n",
            "                \"HUS2\": \"0\",\n",
            "                \"HCO2_1\": \"0\",\n",
            "                \"HCO2_2\": \"0\",\n",
            "                \"REG_DATE\": \"2025-09-01 04:02:15.0\"\n",
            "            },\n",
            "            {\n",
            "                \"YEAR\": \"2025\",\n",
            "                \"MON\": \"06\",\n",
            "                \"MM_TYPE\": \"소상공인\",\n",
            "                \"CNT\": \"53274\",\n",
            "                \"EUS\": \"96254029\",\n",
            "                \"EUS1\": \"98122772\",\n",
            "                \"EUS2\": \"98464917\",\n",
            "                \"ECO2_1\": \"-2039815.5\",\n",
            "                \"ECO2_2\": \"-2043866.22\",\n",
            "                \"GUS\": \"1638563\",\n",
            "                \"GUS1\": \"1647690\",\n",
            "                \"GUS2\": \"1687480\",\n",
            "                \"GCO2_1\": \"-27668\",\n",
            "                \"GCO2_2\": \"-55336\",\n",
            "                \"WUS\": \"1526737.8\",\n",
            "                \"WUS1\": \"1541313.8\",\n",
            "                \"WUS2\": \"1576869.2\",\n",
            "                \"WCO2_1\": \"-32353.7\",\n",
            "                \"WCO2_2\": \"-97437.288\",\n",
            "                \"HUS\": \"2\",\n",
            "                \"HUS1\": \"2\",\n",
            "                \"HUS2\": \"2\",\n",
            "                \"HCO2_1\": \"0\",\n",
            "                \"HCO2_2\": \"0\",\n",
            "                \"REG_DATE\": \"2025-09-01 04:02:15.0\"\n",
            "            }\n",
            "        ]\n",
            "    }\n",
            "}\n"
          ]
        }
      ]
    },
    {
      "cell_type": "markdown",
      "source": [
        "## 데이터 프레임 생성"
      ],
      "metadata": {
        "id": "d6mT4IxkySzI"
      }
    },
    {
      "cell_type": "code",
      "source": [
        "import pandas as pd\n",
        "\n",
        "## requests로부터 response, body, item 항목 읽기\n",
        "data = response.json()['energyUseDataSummaryInfo']['row'] ##~info의 row를 꺼냄\n",
        "print(type(data))\n",
        "print(len(data))\n",
        "print(data[0])\n",
        "df = pd.DataFrame(data)\n",
        "df['MM_TYPE'] ##특정 칼럼만 보기\n"
      ],
      "metadata": {
        "id": "HOOo9qTsXLkB",
        "outputId": "c9cf2a32-6c73-47f6-ef10-e992cb4943fa",
        "colab": {
          "base_uri": "https://localhost:8080/",
          "height": 309
        }
      },
      "execution_count": 11,
      "outputs": [
        {
          "output_type": "stream",
          "name": "stdout",
          "text": [
            "<class 'list'>\n",
            "5\n",
            "{'YEAR': '2025', 'MON': '06', 'MM_TYPE': '개인', 'CNT': '1269454', 'EUS': '278745288', 'EUS1': '275851011', 'EUS2': '273151435', 'ECO2_1': '4244065', 'ECO2_2': '2076623.656', 'GUS': '13084768', 'GUS1': '11889039', 'GUS2': '12094650', 'GCO2_1': '1091102', 'GCO2_2': '2182204', 'WUS': '14927683.6', 'WUS1': '15166284.8', 'WUS2': '15371662.2', 'WCO2_1': '-341289.9', 'WCO2_2': '-611822.446', 'HUS': '379182.22', 'HUS1': '368839.049', 'HUS2': '389847.167', 'HCO2_1': '-160.888', 'HCO2_2': '-22448.67848156', 'REG_DATE': '2025-09-01 04:02:15.0'}\n"
          ]
        },
        {
          "output_type": "execute_result",
          "data": {
            "text/plain": [
              "0         개인\n",
              "1         학교\n",
              "2    공동주택관리소\n",
              "3       종교단체\n",
              "4       소상공인\n",
              "Name: MM_TYPE, dtype: object"
            ],
            "text/html": [
              "<div>\n",
              "<style scoped>\n",
              "    .dataframe tbody tr th:only-of-type {\n",
              "        vertical-align: middle;\n",
              "    }\n",
              "\n",
              "    .dataframe tbody tr th {\n",
              "        vertical-align: top;\n",
              "    }\n",
              "\n",
              "    .dataframe thead th {\n",
              "        text-align: right;\n",
              "    }\n",
              "</style>\n",
              "<table border=\"1\" class=\"dataframe\">\n",
              "  <thead>\n",
              "    <tr style=\"text-align: right;\">\n",
              "      <th></th>\n",
              "      <th>MM_TYPE</th>\n",
              "    </tr>\n",
              "  </thead>\n",
              "  <tbody>\n",
              "    <tr>\n",
              "      <th>0</th>\n",
              "      <td>개인</td>\n",
              "    </tr>\n",
              "    <tr>\n",
              "      <th>1</th>\n",
              "      <td>학교</td>\n",
              "    </tr>\n",
              "    <tr>\n",
              "      <th>2</th>\n",
              "      <td>공동주택관리소</td>\n",
              "    </tr>\n",
              "    <tr>\n",
              "      <th>3</th>\n",
              "      <td>종교단체</td>\n",
              "    </tr>\n",
              "    <tr>\n",
              "      <th>4</th>\n",
              "      <td>소상공인</td>\n",
              "    </tr>\n",
              "  </tbody>\n",
              "</table>\n",
              "</div><br><label><b>dtype:</b> object</label>"
            ]
          },
          "metadata": {},
          "execution_count": 11
        }
      ]
    },
    {
      "cell_type": "markdown",
      "source": [
        "## 다양항 형식으로 데이터 저장\n"
      ],
      "metadata": {
        "id": "vVG0HYb0ymeM"
      }
    },
    {
      "cell_type": "code",
      "source": [
        "##CSV 형식 데이터 저장\n",
        "df.to_csv('energyUseDataSummaryInfo.csv', index=False, encoding='utf-8')\n",
        "\n",
        "## JSON 형식 데이터 저장\n",
        "df.to_json('energyUseDataSummaryInfo.json', indent=4, force_ascii=False)\n",
        "\n",
        "## EXCEL 형식 데이터 저장\n",
        "df.to_excel('energyUseDataSummaryInfo.xlsx', index =False)\n",
        "## HTML 형식 데이터 저장\n",
        "df.to_html('energyUseDataSummaryInfo.html')"
      ],
      "metadata": {
        "id": "HW1ZodpgXNhG"
      },
      "execution_count": 14,
      "outputs": []
    }
  ]
}